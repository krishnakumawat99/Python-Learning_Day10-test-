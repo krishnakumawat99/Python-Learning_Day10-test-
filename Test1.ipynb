{
  "nbformat": 4,
  "nbformat_minor": 0,
  "metadata": {
    "colab": {
      "provenance": []
    },
    "kernelspec": {
      "name": "python3",
      "display_name": "Python 3"
    },
    "language_info": {
      "name": "python"
    }
  },
  "cells": [
    {
      "cell_type": "code",
      "execution_count": null,
      "metadata": {
        "colab": {
          "base_uri": "https://localhost:8080/"
        },
        "id": "fA_iorg36mwL",
        "outputId": "23319315-6638-41c6-8117-a617cc3b3a5a"
      },
      "outputs": [
        {
          "output_type": "stream",
          "name": "stdout",
          "text": [
            "1 \n",
            "2 3 \n",
            "4   6 \n",
            "7     10 \n",
            "11 12 13 14 15 \n"
          ]
        }
      ],
      "source": [
        "# Q1.Write a Python program to print hollow right angle triangle\n",
        "num=1\n",
        "rows=5\n",
        "for i in range(1, rows + 1):\n",
        "    for j in range(1, i + 1):\n",
        "        if j == 1 or j == i or i == rows:\n",
        "            print(num, end=\" \")\n",
        "        else:\n",
        "            print(\" \", end=\" \")\n",
        "        num += 1\n",
        "    print()"
      ]
    },
    {
      "cell_type": "code",
      "source": [
        "# Q2 Write a Python Program to Print all Prime Numbers in an Interval of 1-11. Output => 2,3,5,7,11\n",
        "for i in range(1, 12):\n",
        "    if i > 1:\n",
        "        for j in range(2, i):\n",
        "            if (i % j == 0):\n",
        "                break\n",
        "        else:\n",
        "            print(i, end=\", \")"
      ],
      "metadata": {
        "colab": {
          "base_uri": "https://localhost:8080/"
        },
        "id": "cAa04C7Z8moR",
        "outputId": "70b88530-44d3-4330-e2b7-0d9e86031ffd"
      },
      "execution_count": null,
      "outputs": [
        {
          "output_type": "stream",
          "name": "stdout",
          "text": [
            "2, 3, 5, 7, 11, "
          ]
        }
      ]
    },
    {
      "cell_type": "code",
      "source": [
        "#Q4. Write a Python Program to Find the Factorial of a Number\n",
        "#Input: 4\n",
        "#Output :24\n",
        "num = 4\n",
        "if (num < 0):\n",
        "    print(\"Factorial is not\")\n",
        "elif (num == 0 or num == 1):\n",
        "    print(\"Factorial of\", num, \"is 1\")\n",
        "else:\n",
        "    a = 1\n",
        "    for i in range(2, num + 1):\n",
        "        a*= i\n",
        "    print(\"Factorial of\", num, \"is\", a)"
      ],
      "metadata": {
        "colab": {
          "base_uri": "https://localhost:8080/"
        },
        "id": "94F2opSR-GHm",
        "outputId": "4ec031ce-21ea-41b0-ff27-ccd84125079c"
      },
      "execution_count": null,
      "outputs": [
        {
          "output_type": "stream",
          "name": "stdout",
          "text": [
            "Factorial of 4 is 24\n"
          ]
        }
      ]
    },
    {
      "cell_type": "code",
      "source": [
        "#Input: 5\n",
        "#Output: 120\n",
        "num = 5\n",
        "if (num < 0):\n",
        "    print(\"Factorial is not\")\n",
        "elif (num == 0 or num == 1):\n",
        "    print(\"Factorial of\", num, \"is 1\")\n",
        "else:\n",
        "    a = 1\n",
        "    for i in range(2, num + 1):\n",
        "        a*= i\n",
        "    print(\"Factorial of\", num, \"is\", a)"
      ],
      "metadata": {
        "id": "qBTnM4qd_K5f",
        "colab": {
          "base_uri": "https://localhost:8080/"
        },
        "outputId": "5eaa3a2a-64a3-4767-fc8d-c218daa1e7c5"
      },
      "execution_count": 15,
      "outputs": [
        {
          "output_type": "stream",
          "name": "stdout",
          "text": [
            "Factorial of 5 is 120\n"
          ]
        }
      ]
    }
  ]
}